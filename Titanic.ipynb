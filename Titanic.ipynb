{
  "nbformat": 4,
  "nbformat_minor": 0,
  "metadata": {
    "colab": {
      "name": "Titanic.ipynb",
      "provenance": [],
      "collapsed_sections": [
        "Uuv6z-Wq2oOx",
        "IOWeQKqp42FT",
        "iKCLGb3g7nwE",
        "eQvVFR25Ggjk"
      ],
      "mount_file_id": "1nBd_CmJs3T7Nh7zPjTdwAql3hmPPOnmw",
      "authorship_tag": "ABX9TyNHfda8aKzMnNfhQ6EHVYcS",
      "include_colab_link": true
    },
    "kernelspec": {
      "name": "python3",
      "display_name": "Python 3"
    }
  },
  "cells": [
    {
      "cell_type": "markdown",
      "metadata": {
        "id": "view-in-github",
        "colab_type": "text"
      },
      "source": [
        "<a href=\"https://colab.research.google.com/github/agarcia196/Orange_BI/blob/master/Titanic.ipynb\" target=\"_parent\"><img src=\"https://colab.research.google.com/assets/colab-badge.svg\" alt=\"Open In Colab\"/></a>"
      ]
    },
    {
      "cell_type": "markdown",
      "metadata": {
        "id": "Uuv6z-Wq2oOx",
        "colab_type": "text"
      },
      "source": [
        "# Instalar Orange\n",
        "Para instalar Orange se usa el comando pip"
      ]
    },
    {
      "cell_type": "code",
      "metadata": {
        "id": "Tb6ccWJV27Me",
        "colab_type": "code",
        "outputId": "a52b42ba-1d6e-4f66-8271-857a704f1094",
        "colab": {
          "base_uri": "https://localhost:8080/"
        }
      },
      "source": [
        "pip install orange3"
      ],
      "execution_count": 0,
      "outputs": [
        {
          "output_type": "stream",
          "text": [
            "Collecting orange3\n",
            "\u001b[?25l  Downloading https://files.pythonhosted.org/packages/52/87/b4a179d19d0ae243847447b3a1c0c9985baddc614c5cecdef771f3c90f3e/Orange3-3.25.1-cp36-cp36m-manylinux1_x86_64.whl (2.6MB)\n",
            "\u001b[K     |████████████████████████████████| 2.6MB 2.5MB/s \n",
            "\u001b[?25hRequirement already satisfied: joblib>=0.9.4 in /usr/local/lib/python3.6/dist-packages (from orange3) (0.15.1)\n",
            "Requirement already satisfied: scipy>=0.16.1 in /usr/local/lib/python3.6/dist-packages (from orange3) (1.4.1)\n",
            "Collecting keyrings.alt\n",
            "  Downloading https://files.pythonhosted.org/packages/0c/3e/a39c3fb722ffdee50db5dff1e794a01cab7e0408bba1aa0e02e28a87667d/keyrings.alt-3.4.0-py2.py3-none-any.whl\n",
            "Collecting pyqtgraph>=0.10.0\n",
            "\u001b[?25l  Downloading https://files.pythonhosted.org/packages/cd/ad/307e0280df5c19986c4206d138ec3a8954afc722cea991f4adb4a16337d9/pyqtgraph-0.10.0.tar.gz (1.5MB)\n",
            "\u001b[K     |████████████████████████████████| 1.6MB 27.4MB/s \n",
            "\u001b[?25hCollecting orange-canvas-core<0.2a,>=0.1.9\n",
            "\u001b[?25l  Downloading https://files.pythonhosted.org/packages/df/af/c0e7bea4452a66d379f44ca816f2c68429cf9ad7f16032f26910e00dc5e9/orange_canvas_core-0.1.13-py3-none-any.whl (449kB)\n",
            "\u001b[K     |████████████████████████████████| 450kB 37.9MB/s \n",
            "\u001b[?25hRequirement already satisfied: requests in /usr/local/lib/python3.6/dist-packages (from orange3) (2.23.0)\n",
            "Collecting openTSNE>=0.3.11\n",
            "\u001b[33m  WARNING: Retrying (Retry(total=4, connect=None, read=None, redirect=None, status=None)) after connection broken by 'ReadTimeoutError(\"HTTPSConnectionPool(host='files.pythonhosted.org', port=443): Read timed out. (read timeout=15)\",)': /packages/98/0d/932d5c96f9513c446b7707f08fded68492196719ae6bd709230d9eec1946/openTSNE-0.4.3-cp36-cp36m-manylinux1_x86_64.whl\u001b[0m\n",
            "\u001b[?25l  Downloading https://files.pythonhosted.org/packages/98/0d/932d5c96f9513c446b7707f08fded68492196719ae6bd709230d9eec1946/openTSNE-0.4.3-cp36-cp36m-manylinux1_x86_64.whl (1.8MB)\n",
            "\u001b[K     |████████████████████████████████| 1.8MB 2.7MB/s \n",
            "\u001b[?25hCollecting keyring\n",
            "  Downloading https://files.pythonhosted.org/packages/a8/5e/d13b9feb235d042321a239ac8bc85e90cf3bbe49090c6f1383ac3fd53e0e/keyring-21.2.1-py3-none-any.whl\n",
            "Collecting xlsxwriter\n",
            "\u001b[?25l  Downloading https://files.pythonhosted.org/packages/00/1f/2092a81056d36c1b6651a645aa84c1f76bcee03103072d4fe1cb58501d69/XlsxWriter-1.2.8-py2.py3-none-any.whl (141kB)\n",
            "\u001b[K     |████████████████████████████████| 143kB 13.5MB/s \n",
            "\u001b[?25hRequirement already satisfied: python-louvain>=0.13 in /usr/local/lib/python3.6/dist-packages (from orange3) (0.14)\n",
            "Requirement already satisfied: chardet>=3.0.2 in /usr/local/lib/python3.6/dist-packages (from orange3) (3.0.4)\n",
            "Requirement already satisfied: bottleneck>=1.0.0 in /usr/local/lib/python3.6/dist-packages (from orange3) (1.3.2)\n",
            "Collecting orange-widget-base>=4.5.0\n",
            "\u001b[?25l  Downloading https://files.pythonhosted.org/packages/44/bf/badd5b5fd4671ac00127f9b2ee4a666767e3f5c728cbd3bb7a42dd161c99/orange_widget_base-4.5.0-py3-none-any.whl (215kB)\n",
            "\u001b[K     |████████████████████████████████| 225kB 19.1MB/s \n",
            "\u001b[?25hRequirement already satisfied: scikit-learn!=0.23.0,>=0.22.0 in /usr/local/lib/python3.6/dist-packages (from orange3) (0.22.2.post1)\n",
            "Requirement already satisfied: setuptools>=36.3 in /usr/local/lib/python3.6/dist-packages (from orange3) (46.3.0)\n",
            "Requirement already satisfied: pip>=9.0 in /usr/local/lib/python3.6/dist-packages (from orange3) (19.3.1)\n",
            "Requirement already satisfied: matplotlib>=2.0.0 in /usr/local/lib/python3.6/dist-packages (from orange3) (3.2.1)\n",
            "Requirement already satisfied: pyyaml in /usr/local/lib/python3.6/dist-packages (from orange3) (3.13)\n",
            "Requirement already satisfied: openpyxl in /usr/local/lib/python3.6/dist-packages (from orange3) (2.5.9)\n",
            "Requirement already satisfied: networkx in /usr/local/lib/python3.6/dist-packages (from orange3) (2.4)\n",
            "Collecting baycomp>=1.0.2\n",
            "  Downloading https://files.pythonhosted.org/packages/05/69/3029fe9fe13e4ec14d9d6be695ee197e4cd75221c7f77eb95ac5604035b4/baycomp-1.0.2-py3-none-any.whl\n",
            "Collecting serverfiles\n",
            "  Downloading https://files.pythonhosted.org/packages/72/2d/edd104137443a831eed2f1cedfe96eb003302097b43e7519a98467c5fe44/serverfiles-0.3.0.tar.gz\n",
            "Collecting httpx~=0.12\n",
            "\u001b[?25l  Downloading https://files.pythonhosted.org/packages/84/3b/636a1d5278b8c47a0bbf61879c2a157de053cd37bddea4688187491f7939/httpx-0.13.1-py3-none-any.whl (54kB)\n",
            "\u001b[K     |████████████████████████████████| 61kB 7.3MB/s \n",
            "\u001b[?25hRequirement already satisfied: docutils in /usr/local/lib/python3.6/dist-packages (from orange3) (0.15.2)\n",
            "Collecting AnyQt>=0.0.8\n",
            "\u001b[?25l  Downloading https://files.pythonhosted.org/packages/ac/6d/8c2623ac14a691fb9e672a116e9988de197c27a9da505a330b961647a740/AnyQt-0.0.10-py2.py3-none-any.whl (45kB)\n",
            "\u001b[K     |████████████████████████████████| 51kB 5.8MB/s \n",
            "\u001b[?25hRequirement already satisfied: numpy>=1.16.0 in /usr/local/lib/python3.6/dist-packages (from orange3) (1.18.4)\n",
            "Requirement already satisfied: xlrd>=0.9.2 in /usr/local/lib/python3.6/dist-packages (from orange3) (1.1.0)\n",
            "Requirement already satisfied: pandas in /usr/local/lib/python3.6/dist-packages (from orange3) (1.0.3)\n",
            "Collecting dictdiffer\n",
            "  Downloading https://files.pythonhosted.org/packages/97/92/350b6b6ec39c5f87d98d04c91a50c498518716a05368e6dea88b5c69b590/dictdiffer-0.8.1-py2.py3-none-any.whl\n",
            "Collecting commonmark\n",
            "\u001b[?25l  Downloading https://files.pythonhosted.org/packages/b1/92/dfd892312d822f36c55366118b95d914e5f16de11044a27cf10a7d71bbbf/commonmark-0.9.1-py2.py3-none-any.whl (51kB)\n",
            "\u001b[K     |████████████████████████████████| 51kB 6.0MB/s \n",
            "\u001b[?25hRequirement already satisfied: cachecontrol[filecache] in /usr/local/lib/python3.6/dist-packages (from orange-canvas-core<0.2a,>=0.1.9->orange3) (0.12.6)\n",
            "Requirement already satisfied: certifi>=2017.4.17 in /usr/local/lib/python3.6/dist-packages (from requests->orange3) (2020.4.5.1)\n",
            "Requirement already satisfied: urllib3!=1.25.0,!=1.25.1,<1.26,>=1.21.1 in /usr/local/lib/python3.6/dist-packages (from requests->orange3) (1.24.3)\n",
            "Requirement already satisfied: idna<3,>=2.5 in /usr/local/lib/python3.6/dist-packages (from requests->orange3) (2.9)\n",
            "Requirement already satisfied: importlib-metadata; python_version < \"3.8\" in /usr/local/lib/python3.6/dist-packages (from keyring->orange3) (1.6.0)\n",
            "Collecting jeepney>=0.4.2; sys_platform == \"linux\"\n",
            "  Downloading https://files.pythonhosted.org/packages/79/31/2e8d42727595faf224c6dbb748c32b192e212f25495fe841fb7ce8e168b8/jeepney-0.4.3-py3-none-any.whl\n",
            "Collecting SecretStorage>=3; sys_platform == \"linux\"\n",
            "  Downloading https://files.pythonhosted.org/packages/c3/50/8a02cad020e949e6d7105f5f4530d41e3febcaa5b73f8f2148aacb3aeba5/SecretStorage-3.1.2-py3-none-any.whl\n",
            "Requirement already satisfied: python-dateutil>=2.1 in /usr/local/lib/python3.6/dist-packages (from matplotlib>=2.0.0->orange3) (2.8.1)\n",
            "Requirement already satisfied: kiwisolver>=1.0.1 in /usr/local/lib/python3.6/dist-packages (from matplotlib>=2.0.0->orange3) (1.2.0)\n",
            "Requirement already satisfied: cycler>=0.10 in /usr/local/lib/python3.6/dist-packages (from matplotlib>=2.0.0->orange3) (0.10.0)\n",
            "Requirement already satisfied: pyparsing!=2.0.4,!=2.1.2,!=2.1.6,>=2.0.1 in /usr/local/lib/python3.6/dist-packages (from matplotlib>=2.0.0->orange3) (2.4.7)\n",
            "Requirement already satisfied: et-xmlfile in /usr/local/lib/python3.6/dist-packages (from openpyxl->orange3) (1.0.1)\n",
            "Requirement already satisfied: jdcal in /usr/local/lib/python3.6/dist-packages (from openpyxl->orange3) (1.4.1)\n",
            "Requirement already satisfied: decorator>=4.3.0 in /usr/local/lib/python3.6/dist-packages (from networkx->orange3) (4.4.2)\n",
            "Collecting httpcore==0.9.*\n",
            "\u001b[?25l  Downloading https://files.pythonhosted.org/packages/14/f5/3e4a5f347c0ced77628a0b1468fb6f88318d1bfa7c51b700cc3cce082e09/httpcore-0.9.0-py3-none-any.whl (42kB)\n",
            "\u001b[K     |████████████████████████████████| 51kB 5.6MB/s \n",
            "\u001b[?25hCollecting hstspreload\n",
            "\u001b[?25l  Downloading https://files.pythonhosted.org/packages/91/2d/04469b2081e44264214374ed942b52bdb4ceb52b63ad656cdacbeba75fd0/hstspreload-2020.5.19-py3-none-any.whl (886kB)\n",
            "\u001b[K     |████████████████████████████████| 890kB 22.1MB/s \n",
            "\u001b[?25hCollecting rfc3986<2,>=1.3\n",
            "  Downloading https://files.pythonhosted.org/packages/78/be/7b8b99fd74ff5684225f50dd0e865393d2265656ef3b4ba9eaaaffe622b8/rfc3986-1.4.0-py2.py3-none-any.whl\n",
            "Collecting sniffio\n",
            "  Downloading https://files.pythonhosted.org/packages/b3/82/4bd4b7d9c0d1dc0fbfbc2a1e00138e7f3ab85bc239358fe9b78aa2ab586d/sniffio-1.1.0-py3-none-any.whl\n",
            "Requirement already satisfied: pytz>=2017.2 in /usr/local/lib/python3.6/dist-packages (from pandas->orange3) (2018.9)\n",
            "Requirement already satisfied: msgpack>=0.5.2 in /usr/local/lib/python3.6/dist-packages (from cachecontrol[filecache]->orange-canvas-core<0.2a,>=0.1.9->orange3) (1.0.0)\n",
            "Collecting lockfile>=0.9; extra == \"filecache\"\n",
            "  Downloading https://files.pythonhosted.org/packages/c8/22/9460e311f340cb62d26a38c419b1381b8593b0bb6b5d1f056938b086d362/lockfile-0.12.2-py2.py3-none-any.whl\n",
            "Requirement already satisfied: zipp>=0.5 in /usr/local/lib/python3.6/dist-packages (from importlib-metadata; python_version < \"3.8\"->keyring->orange3) (3.1.0)\n",
            "Collecting cryptography\n",
            "\u001b[?25l  Downloading https://files.pythonhosted.org/packages/3c/04/686efee2dcdd25aecf357992e7d9362f443eb182ecd623f882bc9f7a6bba/cryptography-2.9.2-cp35-abi3-manylinux2010_x86_64.whl (2.7MB)\n",
            "\u001b[K     |████████████████████████████████| 2.7MB 25.6MB/s \n",
            "\u001b[?25hRequirement already satisfied: six>=1.5 in /usr/local/lib/python3.6/dist-packages (from python-dateutil>=2.1->matplotlib>=2.0.0->orange3) (1.12.0)\n",
            "Collecting h2==3.*\n",
            "\u001b[?25l  Downloading https://files.pythonhosted.org/packages/25/de/da019bcc539eeab02f6d45836f23858ac467f584bfec7a526ef200242afe/h2-3.2.0-py2.py3-none-any.whl (65kB)\n",
            "\u001b[K     |████████████████████████████████| 71kB 7.6MB/s \n",
            "\u001b[?25hCollecting h11<0.10,>=0.8\n",
            "\u001b[?25l  Downloading https://files.pythonhosted.org/packages/5a/fd/3dad730b0f95e78aeeb742f96fa7bbecbdd56a58e405d3da440d5bfb90c6/h11-0.9.0-py2.py3-none-any.whl (53kB)\n",
            "\u001b[K     |████████████████████████████████| 61kB 7.4MB/s \n",
            "\u001b[?25hCollecting contextvars>=2.1; python_version < \"3.7\"\n",
            "  Downloading https://files.pythonhosted.org/packages/83/96/55b82d9f13763be9d672622e1b8106c85acb83edd7cc2fa5bc67cd9877e9/contextvars-2.4.tar.gz\n",
            "Requirement already satisfied: cffi!=1.11.3,>=1.8 in /usr/local/lib/python3.6/dist-packages (from cryptography->SecretStorage>=3; sys_platform == \"linux\"->keyring->orange3) (1.14.0)\n",
            "Collecting hpack<4,>=3.0\n",
            "  Downloading https://files.pythonhosted.org/packages/8a/cc/e53517f4a1e13f74776ca93271caef378dadec14d71c61c949d759d3db69/hpack-3.0.0-py2.py3-none-any.whl\n",
            "Collecting hyperframe<6,>=5.2.0\n",
            "  Downloading https://files.pythonhosted.org/packages/19/0c/bf88182bcb5dce3094e2f3e4fe20db28a9928cb7bd5b08024030e4b140db/hyperframe-5.2.0-py2.py3-none-any.whl\n",
            "Collecting immutables>=0.9\n",
            "\u001b[?25l  Downloading https://files.pythonhosted.org/packages/99/e0/ea6fd4697120327d26773b5a84853f897a68e33d3f9376b00a8ff96e4f63/immutables-0.14-cp36-cp36m-manylinux1_x86_64.whl (98kB)\n",
            "\u001b[K     |████████████████████████████████| 102kB 11.6MB/s \n",
            "\u001b[?25hRequirement already satisfied: pycparser in /usr/local/lib/python3.6/dist-packages (from cffi!=1.11.3,>=1.8->cryptography->SecretStorage>=3; sys_platform == \"linux\"->keyring->orange3) (2.20)\n",
            "Building wheels for collected packages: pyqtgraph, serverfiles, contextvars\n",
            "  Building wheel for pyqtgraph (setup.py) ... \u001b[?25l\u001b[?25hdone\n",
            "  Created wheel for pyqtgraph: filename=pyqtgraph-0.10.0-cp36-none-any.whl size=735678 sha256=2dd25a5ae4679d40da16411d9f3056ff5a503557a5ce4a27bfd09a88f68fa3f9\n",
            "  Stored in directory: /root/.cache/pip/wheels/93/a2/de/184ecdefdb91d760706d02389015dfa3b96e927eb1c42ace37\n",
            "  Building wheel for serverfiles (setup.py) ... \u001b[?25l\u001b[?25hdone\n",
            "  Created wheel for serverfiles: filename=serverfiles-0.3.0-cp36-none-any.whl size=6885 sha256=04cb295a93829cc84caa6c35a78eaab498f134f57efac22f7cab6cbad9d9c24c\n",
            "  Stored in directory: /root/.cache/pip/wheels/60/e5/74/d6859d4e5fb6968bc38576bf2520fe20509600741c49605067\n",
            "  Building wheel for contextvars (setup.py) ... \u001b[?25l\u001b[?25hdone\n",
            "  Created wheel for contextvars: filename=contextvars-2.4-cp36-none-any.whl size=7666 sha256=1cd2c7952f0ba6b825ed2de7d64663ad423b82a9af47910dc737f6a3522c5350\n",
            "  Stored in directory: /root/.cache/pip/wheels/a5/7d/68/1ebae2668bda2228686e3c1cf16f2c2384cea6e9334ad5f6de\n",
            "Successfully built pyqtgraph serverfiles contextvars\n",
            "Installing collected packages: keyrings.alt, pyqtgraph, dictdiffer, AnyQt, commonmark, orange-canvas-core, openTSNE, jeepney, cryptography, SecretStorage, keyring, xlsxwriter, orange-widget-base, baycomp, serverfiles, immutables, contextvars, sniffio, hpack, hyperframe, h2, h11, httpcore, hstspreload, rfc3986, httpx, orange3, lockfile\n",
            "Successfully installed AnyQt-0.0.10 SecretStorage-3.1.2 baycomp-1.0.2 commonmark-0.9.1 contextvars-2.4 cryptography-2.9.2 dictdiffer-0.8.1 h11-0.9.0 h2-3.2.0 hpack-3.0.0 hstspreload-2020.5.19 httpcore-0.9.0 httpx-0.13.1 hyperframe-5.2.0 immutables-0.14 jeepney-0.4.3 keyring-21.2.1 keyrings.alt-3.4.0 lockfile-0.12.2 openTSNE-0.4.3 orange-canvas-core-0.1.13 orange-widget-base-4.5.0 orange3-3.25.1 pyqtgraph-0.10.0 rfc3986-1.4.0 serverfiles-0.3.0 sniffio-1.1.0 xlsxwriter-1.2.8\n"
          ],
          "name": "stdout"
        }
      ]
    },
    {
      "cell_type": "markdown",
      "metadata": {
        "id": "IOWeQKqp42FT",
        "colab_type": "text"
      },
      "source": [
        "# Importar librerias python\n",
        "Importamos las librerias necesarias para realizar el modelo, como lo son: \n",
        "\n",
        "*   **Orange**: Cargar,Preprocesar y Clasificar Datos.\n",
        "*   **Numpy**: Manejo de arreglos.\n",
        "*   **confusion_matrix()** de *Sklearn*: Calculo de matriz de confusión.\n",
        "*   **Matplot**: Graficar.\n",
        "*   **Seaborn**: Graficar de forma mas agradable.\n"
      ]
    },
    {
      "cell_type": "code",
      "metadata": {
        "id": "4aQwW7fO5N5E",
        "colab_type": "code",
        "outputId": "abf30b8b-86a1-4df6-c16e-8e14b69791fd",
        "colab": {
          "base_uri": "https://localhost:8080/",
          "height": 54
        }
      },
      "source": [
        "import numpy as np\n",
        "import matplotlib.pyplot as plt\n",
        "import Orange\n",
        "import random\n",
        "#Matriz de confusion y formato\n",
        "from sklearn.metrics import confusion_matrix\n",
        "import pandas.util.testing as tm\n",
        "import seaborn as sns\n",
        "print (\"Orange v\"+Orange.version.version)\n",
        "print (\"Numpy v\"+np.version.version)"
      ],
      "execution_count": 0,
      "outputs": [
        {
          "output_type": "stream",
          "text": [
            "Orange v3.25.1\n",
            "Numpy v1.18.4\n"
          ],
          "name": "stdout"
        }
      ]
    },
    {
      "cell_type": "markdown",
      "metadata": {
        "id": "iKCLGb3g7nwE",
        "colab_type": "text"
      },
      "source": [
        "# Cargando archivos desde Drive"
      ]
    },
    {
      "cell_type": "code",
      "metadata": {
        "id": "zTt5LWVF7qIu",
        "colab_type": "code",
        "outputId": "d10fc208-2bc7-4a0e-daa6-7fc66787b4e6",
        "colab": {
          "base_uri": "https://localhost:8080/",
          "height": 55
        }
      },
      "source": [
        "from google.colab import drive\n",
        "drive.mount('/content/drive')"
      ],
      "execution_count": 0,
      "outputs": [
        {
          "output_type": "stream",
          "text": [
            "Drive already mounted at /content/drive; to attempt to forcibly remount, call drive.mount(\"/content/drive\", force_remount=True).\n"
          ],
          "name": "stdout"
        }
      ]
    },
    {
      "cell_type": "markdown",
      "metadata": {
        "id": "GcGjTrF470WD",
        "colab_type": "text"
      },
      "source": [
        "Después de poner el código de autorización de Google Drive, en el panel izquierdo, en Archivos, podrá recorrer en la carpeta drive/My Drive todos los archivos que tiene en Drive y acceder a ellos.\n",
        "\n",
        "Con la siguiente instrucción puede listar los archivos:"
      ]
    },
    {
      "cell_type": "code",
      "metadata": {
        "id": "-O5M12-o72GU",
        "colab_type": "code",
        "outputId": "ef4edd38-6972-4b9a-c6bf-3fbbb3e8d9cc",
        "colab": {
          "base_uri": "https://localhost:8080/",
          "height": 35
        }
      },
      "source": [
        "!ls \"/content/drive/My Drive/BI\""
      ],
      "execution_count": 0,
      "outputs": [
        {
          "output_type": "stream",
          "text": [
            "titanic_drive.csv  Titanic.ipynb\n"
          ],
          "name": "stdout"
        }
      ]
    },
    {
      "cell_type": "markdown",
      "metadata": {
        "id": "F-aAE-vd8j3E",
        "colab_type": "text"
      },
      "source": [
        "Ahora leemos los datos del archivo CSV"
      ]
    },
    {
      "cell_type": "code",
      "metadata": {
        "id": "I3GxgJKj8n-J",
        "colab_type": "code",
        "outputId": "5cfc1cc6-5989-47ea-933f-f52678f3c224",
        "colab": {
          "base_uri": "https://localhost:8080/",
          "height": 92
        }
      },
      "source": [
        "path= \"/content/drive/My Drive/BI/titanic_drive.csv\"\n",
        "data = Orange.data.Table(path)\n",
        "print(\"Attributes:\", \", \".join(x.name for x in data.domain.attributes))\n",
        "print(\"Target:\", data.domain.class_var.name)\n",
        "print(\"Data instances\", len(data))"
      ],
      "execution_count": 0,
      "outputs": [
        {
          "output_type": "stream",
          "text": [
            "Attributes: PassengerClass, Gender, Child_ Adult, SiblingsSpousesAboard, ParentsChildrenAboard, TravelingAlone, Embarked, Lifeboat, BodyID, HomeOrDestination \n",
            "Target: Survived\n",
            "Data instances 1309\n"
          ],
          "name": "stdout"
        }
      ]
    },
    {
      "cell_type": "markdown",
      "metadata": {
        "id": "eQvVFR25Ggjk",
        "colab_type": "text"
      },
      "source": [
        "# Preprocesamiento"
      ]
    },
    {
      "cell_type": "code",
      "metadata": {
        "id": "eRuGKK78GuEo",
        "colab_type": "code",
        "outputId": "22fb8491-826a-416c-ba1f-d479117bae9b",
        "colab": {
          "base_uri": "https://localhost:8080/",
          "height": 201
        }
      },
      "source": [
        "gini = Orange.preprocess.score.Gini()\n",
        "scores = gini(data)\n",
        "for attr, score in zip(data.domain.attributes, scores):\n",
        "  print('%.3f' % score, attr.name)"
      ],
      "execution_count": 0,
      "outputs": [
        {
          "output_type": "stream",
          "text": [
            "0.046 PassengerClass\n",
            "0.132 Gender\n",
            "0.006 Child_ Adult\n",
            "0.016 SiblingsSpousesAboard\n",
            "0.019 ParentsChildrenAboard\n",
            "0.019 TravelingAlone\n",
            "0.016 Embarked\n",
            "0.006 Lifeboat\n",
            "0.000 BodyID\n",
            "0.093 HomeOrDestination \n"
          ],
          "name": "stdout"
        }
      ]
    },
    {
      "cell_type": "markdown",
      "metadata": {
        "id": "REMPI7Y0nQYC",
        "colab_type": "text"
      },
      "source": [
        "Preprocesamos los datos seleccionando los mejores caracteristicas"
      ]
    },
    {
      "cell_type": "code",
      "metadata": {
        "id": "SKin77ETnO08",
        "colab_type": "code",
        "colab": {}
      },
      "source": [
        "selector = Orange.preprocess.SelectBestFeatures(method=gini, k=5)\n",
        "data2 = selector(data)\n",
        "data2.domain\n",
        "test = Orange.data.Table.from_list(data2.domain, random.sample(data2, 5))\n",
        "train = Orange.data.Table.from_list(data2.domain, [d for d in data2 if d not in test])"
      ],
      "execution_count": 0,
      "outputs": []
    },
    {
      "cell_type": "markdown",
      "metadata": {
        "id": "Ufi8Vh1PqMhQ",
        "colab_type": "text"
      },
      "source": [
        "# Clasificación\n",
        "Se entrena el modelo de regresión logística con los datos del preprocesamiento"
      ]
    },
    {
      "cell_type": "code",
      "metadata": {
        "id": "Cpkdfy_Qqa_s",
        "colab_type": "code",
        "outputId": "0c7cc2d5-778d-4a02-c9fd-9b1ad3521a3d",
        "colab": {
          "base_uri": "https://localhost:8080/",
          "height": 146
        }
      },
      "source": [
        "lr = Orange.classification.LogisticRegressionLearner()\n",
        "tree = Orange.classification.tree.TreeLearner(max_depth=3)\n",
        "learners = [tree,lr]\n",
        "classifiers = [learner(train) for learner in learners]\n",
        "\n",
        "target = 1\n",
        "print(\"Probabilities for %s:\" % data.domain.class_var.values[target])\n",
        "print(\"Original target \", \" \".join(\"%-5s\" % l.name for l in classifiers))\n",
        "\n",
        "c_values = data.domain.class_var.values\n",
        "for d in test:\n",
        "    print(\n",
        "        (\"{:<15}\" + \" {:.3f}\" * len(classifiers)).format(\n",
        "            c_values[int(d.get_class())], *(c(d, 1)[target] for c in classifiers)\n",
        "        )\n",
        "    )"
      ],
      "execution_count": 0,
      "outputs": [
        {
          "output_type": "stream",
          "text": [
            "Probabilities for Yes:\n",
            "Original target  tree  logistic regression\n",
            "No              0.491 0.572\n",
            "No              0.000 0.468\n",
            "No              0.191 0.100\n",
            "No              0.191 0.109\n",
            "No              0.000 0.144\n"
          ],
          "name": "stdout"
        }
      ]
    },
    {
      "cell_type": "code",
      "metadata": {
        "id": "q_MgydaJsuMo",
        "colab_type": "code",
        "outputId": "e312cc2a-a5b5-4c2d-9201-10fc1a0a5559",
        "colab": {
          "base_uri": "https://localhost:8080/",
          "height": 166
        }
      },
      "source": [
        "res = Orange.evaluation.CrossValidation(data2,learners)\n",
        "print(\" \" *11 + \" \".join(\"%-4s\" % learner.name for learner in learners))\n",
        "print(\"Accuracy   %s\" % \" \".join(\"%.2f\" % s for s in Orange.evaluation.CA(res)))\n",
        "print(\"AUC        %s\" % \" \".join(\"%.2f\" % s for s in Orange.evaluation.AUC(res)))\n",
        "print(\"Precision  %s\" % \" \".join(\"%.2f\" % s for s in Orange.evaluation.Precision(res)))"
      ],
      "execution_count": 0,
      "outputs": [
        {
          "output_type": "stream",
          "text": [
            "/usr/local/lib/python3.6/dist-packages/ipykernel_launcher.py:1: DeprecationWarning: calling Validation's constructor with data and learners is deprecated;\n",
            "construct an instance and call it\n",
            "  \"\"\"Entry point for launching an IPython kernel.\n"
          ],
          "name": "stderr"
        },
        {
          "output_type": "stream",
          "text": [
            "           tree logistic regression\n",
            "Accuracy   0.77 0.78\n",
            "AUC        0.81 0.83\n",
            "Precision  0.77 0.72\n"
          ],
          "name": "stdout"
        }
      ]
    },
    {
      "cell_type": "markdown",
      "metadata": {
        "id": "Z-NhG0w5ZiU-",
        "colab_type": "text"
      },
      "source": [
        "# Matriz de Confusión\n",
        "Para calcular la matriz de confusion se hace uso de *Sklearn* **confusion_matrix()**."
      ]
    },
    {
      "cell_type": "code",
      "metadata": {
        "id": "lEC1Q5Fzd81P",
        "colab_type": "code",
        "outputId": "479fa88f-7da1-487e-9805-dd217bd93a78",
        "colab": {
          "base_uri": "https://localhost:8080/",
          "height": 337
        }
      },
      "source": [
        "mat1 = confusion_matrix(res.actual, res.predicted[0,:])\n",
        "mat2 = confusion_matrix(res.actual, res.predicted[1,:])\n",
        "cmap = sns.dark_palette(\"#3498db\", as_cmap=True)\n",
        "cmap2 = sns.dark_palette(\"#2ecc71\", as_cmap=True)\n",
        "fig, (ax,ax2) = plt.subplots(ncols=2)\n",
        "fig.subplots_adjust(wspace=.2)\n",
        "fig.set_size_inches(10,20)\n",
        "sns.heatmap(mat1.T, square=True, annot=True, fmt='d', ax=ax,\n",
        "            cbar=False, cmap=cmap)\n",
        "sns.heatmap(mat2.T, square=True, annot=True, fmt='d', ax=ax2,\n",
        "            cbar=False, cmap=cmap2)\n",
        "ax.set_title(\"Matriz de Confusion \"+learners[0].name)\n",
        "ax.set_xlabel('Predicted')\n",
        "ax.set_ylabel('Actual');\n",
        "ax2.set_title(\"Matriz de Confusion \"+learners[1].name)\n",
        "ax2.set_xlabel('Predicted')\n",
        "ax2.set_ylabel('Actual');"
      ],
      "execution_count": 0,
      "outputs": [
        {
          "output_type": "display_data",
          "data": {
            "image/png": "[encoded data removed]",
            "text/plain": [
              "<Figure size 720x1440 with 2 Axes>"
            ]
          },
          "metadata": {
            "tags": []
          }
        }
      ]
    }
  ]
}